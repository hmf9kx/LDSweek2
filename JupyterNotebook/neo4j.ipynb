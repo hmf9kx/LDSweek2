{
 "cells": [
  {
   "cell_type": "code",
   "execution_count": 1,
   "metadata": {},
   "outputs": [],
   "source": [
    "import py2neo\n",
    "import pandas as pd\n",
    "import numpy as np\n",
    "import math"
   ]
  },
  {
   "cell_type": "code",
   "execution_count": 2,
   "metadata": {},
   "outputs": [],
   "source": [
    "from py2neo import Graph, Node, Relationship, NodeMatcher"
   ]
  },
  {
   "cell_type": "code",
   "execution_count": 3,
   "metadata": {},
   "outputs": [],
   "source": [
    "def is_not_nan(value):\n",
    "    if type(value) != str:\n",
    "        if math.isnan(value):\n",
    "            return False\n",
    "        else:\n",
    "            return True\n",
    "    else:\n",
    "        return True"
   ]
  },
  {
   "cell_type": "code",
   "execution_count": 5,
   "metadata": {},
   "outputs": [],
   "source": [
    "graph = Graph(\"bolt://localhost:7687\", auth=(\"neo4j\", \"password\"))"
   ]
  },
  {
   "cell_type": "code",
   "execution_count": 6,
   "metadata": {},
   "outputs": [
    {
     "data": {
      "text/html": [
       "(No data)"
      ],
      "text/plain": [
       "(No data)"
      ]
     },
     "execution_count": 6,
     "metadata": {},
     "output_type": "execute_result"
    }
   ],
   "source": [
    "graph.run(\"MATCH (n) DETACH DELETE n\")"
   ]
  },
  {
   "cell_type": "code",
   "execution_count": 7,
   "metadata": {},
   "outputs": [],
   "source": [
    "students = pd.read_csv(\"McSQL Data - students.csv\")\n",
    "classes = pd.read_csv(\"McSQL Data - classes.csv\")\n",
    "countries = pd.read_csv(\"McSQL Data - countries.csv\")\n",
    "xtras = pd.read_csv(\"McSQL Data - extracurriculars.csv\")"
   ]
  },
  {
   "cell_type": "code",
   "execution_count": 8,
   "metadata": {},
   "outputs": [],
   "source": [
    "for i in range(len(students)):\n",
    "    row = students.iloc[i]\n",
    "    graph.run(\"CREATE (:STUDENT {student_id:'\" + row['student_id'] + \"', first_name:'\" + row['first_name'] + \"', last_name:'\" + row['last_name'] + \"', fav_class:'\" + row['fav_class'] \n",
    "          + \"', xtra_id_1:'\" + str(row['xtra_id_1']) + \"', xtra_id_2:'\" + str(row['xtra_id_2']) + \"', xtra_id_3:'\" + str(row['xtra_id_3']) + \"', fav_vacation_id:'\" + \n",
    "          row['fav_vacation_id'] + \"', dream_vacation_id:'\" + row['dream_vacation_id'] + \"', last_name:'\" + row['last_name'] + \"'})\")"
   ]
  },
  {
   "cell_type": "code",
   "execution_count": 9,
   "metadata": {},
   "outputs": [],
   "source": [
    "for i in range(len(classes)):\n",
    "    row = classes.iloc[i]\n",
    "    graph.run(\"CREATE (:CLASS {class_id:'\" + row['class_id'] + \"', class_name:'\" + row['class_name'] + \"', professor_lname:'\" + row['professor_lname'] + \"', professor_fname:'\" \n",
    "          + row['professor_fname'] + \"', prereqs_1:'\" + str(row['prereqs_1']) + \"', prereqs_2:'\" + str(row['prereqs_2']) + \"', credits:'\" + str(row['credits']) + \"', gpa:'\" \n",
    "          + str(row['gpa']) + \"'})\")"
   ]
  },
  {
   "cell_type": "code",
   "execution_count": 10,
   "metadata": {},
   "outputs": [],
   "source": [
    "for i in range(len(countries)):\n",
    "    row = countries.iloc[i]\n",
    "    graph.run(\"CREATE (:COUNTRY {country_id:'\" + row['country_id'] + \"', name:'\" + row['name'] + \"', capital:'\" + row['capital'] + \"', population:'\" + str(row['population'])\n",
    "              + \"', gdp_per_capita:'\" + str(row['gdp_per_capita']) + \"', timezone:'\" + row['timezone'] + \"'})\")"
   ]
  },
  {
   "cell_type": "code",
   "execution_count": 11,
   "metadata": {},
   "outputs": [],
   "source": [
    "for i in range(len(xtras)):\n",
    "    row = xtras.iloc[i]\n",
    "    graph.run(\"CREATE (:EXTRACURRICULAR {xtra_id:'\" + str(row['xtra_id']) + \"', name:'\" + row['name'] + \"', semester:'\" + row['semester'] + \"', director_fname:'\" \n",
    "              + row['director_fname'] + \"', director_lname:'\" + row['director_lname'] + \"', application:'\" + str(row['application']) + \"'})\")"
   ]
  },
  {
   "cell_type": "code",
   "execution_count": 12,
   "metadata": {},
   "outputs": [],
   "source": [
    "for i in range(len(students)):\n",
    "    row = students.iloc[i]\n",
    "    graph.run(\"MATCH (s:STUDENT {student_id:'\" + row['student_id'] +\"'}), (c:CLASS {class_id:'\" + row['fav_class'] + \"'}) CREATE (s)-[:LIKES]->(c)\")"
   ]
  },
  {
   "cell_type": "code",
   "execution_count": 13,
   "metadata": {},
   "outputs": [],
   "source": [
    "for i in range(len(students)):\n",
    "    row = students.iloc[i]\n",
    "    graph.run(\"MATCH (s:STUDENT {student_id:'\" + row['student_id'] +\"'}), (c:COUNTRY {country_id:'\" + row['fav_vacation_id'] + \"'}) CREATE (s)-[:HAS_BEEN_TO]->(c)\")"
   ]
  },
  {
   "cell_type": "code",
   "execution_count": 14,
   "metadata": {},
   "outputs": [],
   "source": [
    "for i in range(len(students)):\n",
    "    row = students.iloc[i]\n",
    "    graph.run(\"MATCH (s:STUDENT {student_id:'\" + row['student_id'] +\"'}), (c:COUNTRY {country_id:'\" + row['dream_vacation_id'] + \"'}) CREATE (s)-[:WANTS_TO_GO_TO]->(c)\")"
   ]
  },
  {
   "cell_type": "code",
   "execution_count": 15,
   "metadata": {},
   "outputs": [],
   "source": [
    "for i in range(len(students)):\n",
    "    row = students.iloc[i]\n",
    "    graph.run(\"MATCH (s:STUDENT {student_id:'\" + row['student_id'] +\"'}), (e:EXTRACURRICULAR {xtra_id:'\" + str(row['xtra_id_1']) + \"'}) CREATE (s)-[:PARTICIPATES_IN]->(e)\")\n",
    "    graph.run(\"MATCH (s:STUDENT {student_id:'\" + row['student_id'] +\"'}), (e:EXTRACURRICULAR {xtra_id:'\" + str(row['xtra_id_2']) + \"'}) CREATE (s)-[:PARTICIPATES_IN]->(e)\")\n",
    "    if is_not_nan(row['xtra_id_3']):\n",
    "        temp = int(row['xtra_id_3'])\n",
    "        graph.run(\"MATCH (s:STUDENT {student_id:'\" + row['student_id'] +\"'}), (e:EXTRACURRICULAR {xtra_id:'\" + str(temp) + \"'}) CREATE (s)-[:PARTICIPATES_IN]->(e)\")"
   ]
  },
  {
   "cell_type": "code",
   "execution_count": 16,
   "metadata": {},
   "outputs": [],
   "source": [
    "for i in range(len(classes)):\n",
    "    row = classes.iloc[i]\n",
    "    if is_not_nan(row['prereqs_1']):\n",
    "        graph.run(\"MATCH (c1:CLASS {class_id:'\" + row['class_id'] +\"'}), (c2:CLASS {class_id:'\" + row['prereqs_1'] + \"'}) CREATE (c1)<-[:IS_PREREQ_OF]-(c2)\")\n",
    "    if is_not_nan(row['prereqs_2']):\n",
    "        graph.run(\"MATCH (c1:CLASS {class_id:'\" + row['class_id'] +\"'}), (c2:CLASS {class_id:'\" + row['prereqs_2'] + \"'}) CREATE (c1)<-[:IS_PREREQ_OF]-(c2)\")"
   ]
  },
  {
   "cell_type": "code",
   "execution_count": null,
   "metadata": {},
   "outputs": [],
   "source": []
  }
 ],
 "metadata": {
  "kernelspec": {
   "display_name": "Python 3",
   "language": "python",
   "name": "python3"
  },
  "language_info": {
   "codemirror_mode": {
    "name": "ipython",
    "version": 3
   },
   "file_extension": ".py",
   "mimetype": "text/x-python",
   "name": "python",
   "nbconvert_exporter": "python",
   "pygments_lexer": "ipython3",
   "version": "3.8.3"
  }
 },
 "nbformat": 4,
 "nbformat_minor": 4
}
