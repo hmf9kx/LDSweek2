{
 "cells": [
  {
   "cell_type": "code",
   "execution_count": 1,
   "metadata": {},
   "outputs": [],
   "source": [
    "import py2neo\n",
    "import pandas as pd\n",
    "import numpy as np\n",
    "import math"
   ]
  },
  {
   "cell_type": "code",
   "execution_count": 2,
   "metadata": {},
   "outputs": [],
   "source": [
    "from py2neo import Graph, Node, Relationship, NodeMatcher"
   ]
  },
  {
   "cell_type": "code",
   "execution_count": 3,
   "metadata": {},
   "outputs": [],
   "source": [
    "def is_not_nan(value):\n",
    "    if type(value) != str:\n",
    "        if math.isnan(value):\n",
    "            return False\n",
    "        else:\n",
    "            return True\n",
    "    else:\n",
    "        return True"
   ]
  },
  {
   "cell_type": "code",
   "execution_count": 4,
   "metadata": {},
   "outputs": [
    {
     "data": {
      "text/plain": [
       "False"
      ]
     },
     "execution_count": 4,
     "metadata": {},
     "output_type": "execute_result"
    }
   ],
   "source": [
    "is_not_nan(np.NaN)"
   ]
  },
  {
   "cell_type": "code",
   "execution_count": 5,
   "metadata": {},
   "outputs": [],
   "source": [
    "graph = Graph(\"bolt://localhost:7687\", auth=(\"neo4j\", \"password\"))"
   ]
  },
  {
   "cell_type": "code",
   "execution_count": 6,
   "metadata": {},
   "outputs": [
    {
     "data": {
      "text/html": [
       "(No data)"
      ],
      "text/plain": [
       "(No data)"
      ]
     },
     "execution_count": 6,
     "metadata": {},
     "output_type": "execute_result"
    }
   ],
   "source": [
    "graph.run(\"MATCH (n) DETACH DELETE n\")"
   ]
  },
  {
   "cell_type": "code",
   "execution_count": 7,
   "metadata": {},
   "outputs": [],
   "source": [
    "students = pd.read_csv(\"McSQL Data - students.csv\")\n",
    "classes = pd.read_csv(\"McSQL Data - classes.csv\")\n",
    "countries = pd.read_csv(\"McSQL Data - countries.csv\")\n",
    "xtras = pd.read_csv(\"McSQL Data - extracurriculars.csv\")"
   ]
  },
  {
   "cell_type": "code",
   "execution_count": 8,
   "metadata": {},
   "outputs": [
    {
     "data": {
      "text/html": [
       "<div>\n",
       "<style scoped>\n",
       "    .dataframe tbody tr th:only-of-type {\n",
       "        vertical-align: middle;\n",
       "    }\n",
       "\n",
       "    .dataframe tbody tr th {\n",
       "        vertical-align: top;\n",
       "    }\n",
       "\n",
       "    .dataframe thead th {\n",
       "        text-align: right;\n",
       "    }\n",
       "</style>\n",
       "<table border=\"1\" class=\"dataframe\">\n",
       "  <thead>\n",
       "    <tr style=\"text-align: right;\">\n",
       "      <th></th>\n",
       "      <th>student_id</th>\n",
       "      <th>first_name</th>\n",
       "      <th>last_name</th>\n",
       "      <th>fav_class</th>\n",
       "      <th>xtra_id_1</th>\n",
       "      <th>xtra_id_2</th>\n",
       "      <th>xtra_id_3</th>\n",
       "      <th>fav_vacation_id</th>\n",
       "      <th>dream_vacation_id</th>\n",
       "    </tr>\n",
       "  </thead>\n",
       "  <tbody>\n",
       "    <tr>\n",
       "      <th>0</th>\n",
       "      <td>hmf9kx</td>\n",
       "      <td>Hayden</td>\n",
       "      <td>French</td>\n",
       "      <td>CS3102</td>\n",
       "      <td>1</td>\n",
       "      <td>3</td>\n",
       "      <td>NaN</td>\n",
       "      <td>CRI</td>\n",
       "      <td>FJI</td>\n",
       "    </tr>\n",
       "    <tr>\n",
       "      <th>1</th>\n",
       "      <td>kgw4wm</td>\n",
       "      <td>Katlyn</td>\n",
       "      <td>Walter</td>\n",
       "      <td>ECON4220</td>\n",
       "      <td>2</td>\n",
       "      <td>5</td>\n",
       "      <td>3.0</td>\n",
       "      <td>GRC</td>\n",
       "      <td>JPN</td>\n",
       "    </tr>\n",
       "    <tr>\n",
       "      <th>2</th>\n",
       "      <td>stf8saa</td>\n",
       "      <td>Stephanie</td>\n",
       "      <td>Fissel</td>\n",
       "      <td>ECON3030</td>\n",
       "      <td>3</td>\n",
       "      <td>4</td>\n",
       "      <td>NaN</td>\n",
       "      <td>CRI</td>\n",
       "      <td>ESP</td>\n",
       "    </tr>\n",
       "    <tr>\n",
       "      <th>3</th>\n",
       "      <td>sjh7yg</td>\n",
       "      <td>Silas</td>\n",
       "      <td>Hayes</td>\n",
       "      <td>STAT1602</td>\n",
       "      <td>0</td>\n",
       "      <td>3</td>\n",
       "      <td>NaN</td>\n",
       "      <td>ITA</td>\n",
       "      <td>NZL</td>\n",
       "    </tr>\n",
       "    <tr>\n",
       "      <th>4</th>\n",
       "      <td>mep6jj</td>\n",
       "      <td>Marina</td>\n",
       "      <td>Peebles</td>\n",
       "      <td>ECON3030</td>\n",
       "      <td>2</td>\n",
       "      <td>1</td>\n",
       "      <td>NaN</td>\n",
       "      <td>ESP</td>\n",
       "      <td>NZL</td>\n",
       "    </tr>\n",
       "  </tbody>\n",
       "</table>\n",
       "</div>"
      ],
      "text/plain": [
       "  student_id first_name last_name fav_class  xtra_id_1  xtra_id_2  xtra_id_3  \\\n",
       "0     hmf9kx     Hayden    French    CS3102          1          3        NaN   \n",
       "1     kgw4wm     Katlyn    Walter  ECON4220          2          5        3.0   \n",
       "2    stf8saa  Stephanie    Fissel  ECON3030          3          4        NaN   \n",
       "3     sjh7yg      Silas     Hayes  STAT1602          0          3        NaN   \n",
       "4     mep6jj     Marina   Peebles  ECON3030          2          1        NaN   \n",
       "\n",
       "  fav_vacation_id dream_vacation_id  \n",
       "0             CRI               FJI  \n",
       "1             GRC               JPN  \n",
       "2             CRI               ESP  \n",
       "3             ITA               NZL  \n",
       "4             ESP               NZL  "
      ]
     },
     "execution_count": 8,
     "metadata": {},
     "output_type": "execute_result"
    }
   ],
   "source": [
    "students.head()"
   ]
  },
  {
   "cell_type": "code",
   "execution_count": 9,
   "metadata": {},
   "outputs": [
    {
     "data": {
      "text/html": [
       "<div>\n",
       "<style scoped>\n",
       "    .dataframe tbody tr th:only-of-type {\n",
       "        vertical-align: middle;\n",
       "    }\n",
       "\n",
       "    .dataframe tbody tr th {\n",
       "        vertical-align: top;\n",
       "    }\n",
       "\n",
       "    .dataframe thead th {\n",
       "        text-align: right;\n",
       "    }\n",
       "</style>\n",
       "<table border=\"1\" class=\"dataframe\">\n",
       "  <thead>\n",
       "    <tr style=\"text-align: right;\">\n",
       "      <th></th>\n",
       "      <th>country_id</th>\n",
       "      <th>name</th>\n",
       "      <th>capital</th>\n",
       "      <th>population</th>\n",
       "      <th>gdp_per_capita</th>\n",
       "      <th>timezone</th>\n",
       "    </tr>\n",
       "  </thead>\n",
       "  <tbody>\n",
       "    <tr>\n",
       "      <th>0</th>\n",
       "      <td>CRI</td>\n",
       "      <td>Costa Rica</td>\n",
       "      <td>San José</td>\n",
       "      <td>5136440</td>\n",
       "      <td>12244</td>\n",
       "      <td>GMT-6</td>\n",
       "    </tr>\n",
       "    <tr>\n",
       "      <th>1</th>\n",
       "      <td>ITA</td>\n",
       "      <td>Italy</td>\n",
       "      <td>Rome</td>\n",
       "      <td>60360000</td>\n",
       "      <td>33228</td>\n",
       "      <td>GMT+2</td>\n",
       "    </tr>\n",
       "    <tr>\n",
       "      <th>2</th>\n",
       "      <td>NZL</td>\n",
       "      <td>New Zealand</td>\n",
       "      <td>Wellington</td>\n",
       "      <td>4971000</td>\n",
       "      <td>42084</td>\n",
       "      <td>GMT+12</td>\n",
       "    </tr>\n",
       "    <tr>\n",
       "      <th>3</th>\n",
       "      <td>GRC</td>\n",
       "      <td>Greece</td>\n",
       "      <td>Athens</td>\n",
       "      <td>10720000</td>\n",
       "      <td>19583</td>\n",
       "      <td>GMT+3</td>\n",
       "    </tr>\n",
       "    <tr>\n",
       "      <th>4</th>\n",
       "      <td>ESP</td>\n",
       "      <td>Spain</td>\n",
       "      <td>Madrid</td>\n",
       "      <td>46940000</td>\n",
       "      <td>29600</td>\n",
       "      <td>GMT+2</td>\n",
       "    </tr>\n",
       "  </tbody>\n",
       "</table>\n",
       "</div>"
      ],
      "text/plain": [
       "  country_id         name     capital  population  gdp_per_capita timezone\n",
       "0        CRI   Costa Rica    San José     5136440           12244    GMT-6\n",
       "1        ITA        Italy        Rome    60360000           33228    GMT+2\n",
       "2        NZL  New Zealand  Wellington     4971000           42084   GMT+12\n",
       "3        GRC       Greece      Athens    10720000           19583    GMT+3\n",
       "4        ESP        Spain      Madrid    46940000           29600    GMT+2"
      ]
     },
     "execution_count": 9,
     "metadata": {},
     "output_type": "execute_result"
    }
   ],
   "source": [
    "countries.head()"
   ]
  },
  {
   "cell_type": "code",
   "execution_count": 10,
   "metadata": {},
   "outputs": [
    {
     "data": {
      "text/html": [
       "<div>\n",
       "<style scoped>\n",
       "    .dataframe tbody tr th:only-of-type {\n",
       "        vertical-align: middle;\n",
       "    }\n",
       "\n",
       "    .dataframe tbody tr th {\n",
       "        vertical-align: top;\n",
       "    }\n",
       "\n",
       "    .dataframe thead th {\n",
       "        text-align: right;\n",
       "    }\n",
       "</style>\n",
       "<table border=\"1\" class=\"dataframe\">\n",
       "  <thead>\n",
       "    <tr style=\"text-align: right;\">\n",
       "      <th></th>\n",
       "      <th>xtra_id</th>\n",
       "      <th>name</th>\n",
       "      <th>semester</th>\n",
       "      <th>director_fname</th>\n",
       "      <th>director_lname</th>\n",
       "      <th>application</th>\n",
       "    </tr>\n",
       "  </thead>\n",
       "  <tbody>\n",
       "    <tr>\n",
       "      <th>0</th>\n",
       "      <td>0</td>\n",
       "      <td>SOTL</td>\n",
       "      <td>both</td>\n",
       "      <td>Max</td>\n",
       "      <td>Tank</td>\n",
       "      <td>False</td>\n",
       "    </tr>\n",
       "    <tr>\n",
       "      <th>1</th>\n",
       "      <td>1</td>\n",
       "      <td>Cavalier Marching Band</td>\n",
       "      <td>fall</td>\n",
       "      <td>Andrew</td>\n",
       "      <td>Koch</td>\n",
       "      <td>True</td>\n",
       "    </tr>\n",
       "    <tr>\n",
       "      <th>2</th>\n",
       "      <td>2</td>\n",
       "      <td>French House</td>\n",
       "      <td>both</td>\n",
       "      <td>Rachel</td>\n",
       "      <td>Geer</td>\n",
       "      <td>True</td>\n",
       "    </tr>\n",
       "    <tr>\n",
       "      <th>3</th>\n",
       "      <td>3</td>\n",
       "      <td>Forge</td>\n",
       "      <td>both</td>\n",
       "      <td>Andy</td>\n",
       "      <td>Page</td>\n",
       "      <td>True</td>\n",
       "    </tr>\n",
       "    <tr>\n",
       "      <th>4</th>\n",
       "      <td>4</td>\n",
       "      <td>SWS</td>\n",
       "      <td>both</td>\n",
       "      <td>Claire</td>\n",
       "      <td>Duffy</td>\n",
       "      <td>True</td>\n",
       "    </tr>\n",
       "  </tbody>\n",
       "</table>\n",
       "</div>"
      ],
      "text/plain": [
       "   xtra_id                    name semester director_fname director_lname  \\\n",
       "0        0                    SOTL     both            Max           Tank   \n",
       "1        1  Cavalier Marching Band     fall         Andrew           Koch   \n",
       "2        2            French House     both         Rachel           Geer   \n",
       "3        3                   Forge     both           Andy           Page   \n",
       "4        4                     SWS     both         Claire          Duffy   \n",
       "\n",
       "   application  \n",
       "0        False  \n",
       "1         True  \n",
       "2         True  \n",
       "3         True  \n",
       "4         True  "
      ]
     },
     "execution_count": 10,
     "metadata": {},
     "output_type": "execute_result"
    }
   ],
   "source": [
    "xtras.head()"
   ]
  },
  {
   "cell_type": "code",
   "execution_count": 11,
   "metadata": {},
   "outputs": [
    {
     "data": {
      "text/html": [
       "<div>\n",
       "<style scoped>\n",
       "    .dataframe tbody tr th:only-of-type {\n",
       "        vertical-align: middle;\n",
       "    }\n",
       "\n",
       "    .dataframe tbody tr th {\n",
       "        vertical-align: top;\n",
       "    }\n",
       "\n",
       "    .dataframe thead th {\n",
       "        text-align: right;\n",
       "    }\n",
       "</style>\n",
       "<table border=\"1\" class=\"dataframe\">\n",
       "  <thead>\n",
       "    <tr style=\"text-align: right;\">\n",
       "      <th></th>\n",
       "      <th>class_id</th>\n",
       "      <th>class_name</th>\n",
       "      <th>professor_fname</th>\n",
       "      <th>professor_lname</th>\n",
       "      <th>prereqs_1</th>\n",
       "      <th>prereqs_2</th>\n",
       "      <th>credits</th>\n",
       "      <th>gpa</th>\n",
       "    </tr>\n",
       "  </thead>\n",
       "  <tbody>\n",
       "    <tr>\n",
       "      <th>0</th>\n",
       "      <td>CS3102</td>\n",
       "      <td>Theory of Computation</td>\n",
       "      <td>Nathan</td>\n",
       "      <td>Brunelle</td>\n",
       "      <td>CS2102</td>\n",
       "      <td>CS2110</td>\n",
       "      <td>3</td>\n",
       "      <td>3.19</td>\n",
       "    </tr>\n",
       "    <tr>\n",
       "      <th>1</th>\n",
       "      <td>ECON4220</td>\n",
       "      <td>Intr Finance &amp; Macroeconomics</td>\n",
       "      <td>Eric</td>\n",
       "      <td>Van Wincoop</td>\n",
       "      <td>ECON3020</td>\n",
       "      <td>NaN</td>\n",
       "      <td>3</td>\n",
       "      <td>3.75</td>\n",
       "    </tr>\n",
       "    <tr>\n",
       "      <th>2</th>\n",
       "      <td>ECON4170</td>\n",
       "      <td>Econ: Risk, Uncertainty &amp; Info</td>\n",
       "      <td>Marc</td>\n",
       "      <td>Santugini</td>\n",
       "      <td>ECON3010</td>\n",
       "      <td>NaN</td>\n",
       "      <td>3</td>\n",
       "      <td>3.66</td>\n",
       "    </tr>\n",
       "    <tr>\n",
       "      <th>3</th>\n",
       "      <td>MUEN3630</td>\n",
       "      <td>Chamber Ensemble</td>\n",
       "      <td>I-Jen</td>\n",
       "      <td>Fang</td>\n",
       "      <td>NaN</td>\n",
       "      <td>NaN</td>\n",
       "      <td>1</td>\n",
       "      <td>3.96</td>\n",
       "    </tr>\n",
       "    <tr>\n",
       "      <th>4</th>\n",
       "      <td>FREN3029</td>\n",
       "      <td>Language House Conversation</td>\n",
       "      <td>Katia</td>\n",
       "      <td>Bellal</td>\n",
       "      <td>NaN</td>\n",
       "      <td>NaN</td>\n",
       "      <td>1</td>\n",
       "      <td>3.72</td>\n",
       "    </tr>\n",
       "  </tbody>\n",
       "</table>\n",
       "</div>"
      ],
      "text/plain": [
       "   class_id                      class_name professor_fname professor_lname  \\\n",
       "0    CS3102           Theory of Computation          Nathan        Brunelle   \n",
       "1  ECON4220   Intr Finance & Macroeconomics            Eric     Van Wincoop   \n",
       "2  ECON4170  Econ: Risk, Uncertainty & Info            Marc       Santugini   \n",
       "3  MUEN3630                Chamber Ensemble           I-Jen            Fang   \n",
       "4  FREN3029     Language House Conversation           Katia          Bellal   \n",
       "\n",
       "  prereqs_1 prereqs_2  credits   gpa  \n",
       "0    CS2102    CS2110        3  3.19  \n",
       "1  ECON3020       NaN        3  3.75  \n",
       "2  ECON3010       NaN        3  3.66  \n",
       "3       NaN       NaN        1  3.96  \n",
       "4       NaN       NaN        1  3.72  "
      ]
     },
     "execution_count": 11,
     "metadata": {},
     "output_type": "execute_result"
    }
   ],
   "source": [
    "classes.head(5)"
   ]
  },
  {
   "cell_type": "code",
   "execution_count": 12,
   "metadata": {},
   "outputs": [],
   "source": [
    "for i in range(len(students)):\n",
    "    row = students.iloc[i]\n",
    "    graph.run(\"CREATE (:STUDENT {student_id:'\" + row['student_id'] + \"', first_name:'\" + row['first_name'] + \"', last_name:'\" + row['last_name'] + \"', fav_class:'\" + row['fav_class'] \n",
    "          + \"', xtra_id_1:'\" + str(row['xtra_id_1']) + \"', xtra_id_2:'\" + str(row['xtra_id_2']) + \"', xtra_id_3:'\" + str(row['xtra_id_3']) + \"', fav_vacation_id:'\" + \n",
    "          row['fav_vacation_id'] + \"', dream_vacation_id:'\" + row['dream_vacation_id'] + \"', last_name:'\" + row['last_name'] + \"'})\")"
   ]
  },
  {
   "cell_type": "code",
   "execution_count": 13,
   "metadata": {},
   "outputs": [],
   "source": [
    "for i in range(len(classes)):\n",
    "    row = classes.iloc[i]\n",
    "    graph.run(\"CREATE (:CLASS {class_id:'\" + row['class_id'] + \"', class_name:'\" + row['class_name'] + \"', professor_lname:'\" + row['professor_lname'] + \"', professor_fname:'\" \n",
    "          + row['professor_fname'] + \"', prereqs_1:'\" + str(row['prereqs_1']) + \"', prereqs_2:'\" + str(row['prereqs_2']) + \"', credits:'\" + str(row['credits']) + \"', gpa:'\" \n",
    "          + str(row['gpa']) + \"'})\")"
   ]
  },
  {
   "cell_type": "code",
   "execution_count": 14,
   "metadata": {},
   "outputs": [],
   "source": [
    "for i in range(len(countries)):\n",
    "    row = countries.iloc[i]\n",
    "    graph.run(\"CREATE (:COUNTRY {country_id:'\" + row['country_id'] + \"', name:'\" + row['name'] + \"', capital:'\" + row['capital'] + \"', population:'\" + str(row['population'])\n",
    "              + \"', gdp_per_capita:'\" + str(row['gdp_per_capita']) + \"', timezone:'\" + row['timezone'] + \"'})\")"
   ]
  },
  {
   "cell_type": "code",
   "execution_count": 15,
   "metadata": {},
   "outputs": [],
   "source": [
    "for i in range(len(xtras)):\n",
    "    row = xtras.iloc[i]\n",
    "    graph.run(\"CREATE (:EXTRACURRICULAR {xtra_id:'\" + str(row['xtra_id']) + \"', name:'\" + row['name'] + \"', semester:'\" + row['semester'] + \"', director_fname:'\" \n",
    "              + row['director_fname'] + \"', director_lname:'\" + row['director_lname'] + \"', application:'\" + str(row['application']) + \"'})\")"
   ]
  },
  {
   "cell_type": "code",
   "execution_count": 16,
   "metadata": {},
   "outputs": [],
   "source": [
    "for i in range(len(students)):\n",
    "    row = students.iloc[i]\n",
    "    graph.run(\"MATCH (s:STUDENT {student_id:'\" + row['student_id'] +\"'}), (c:CLASS {class_id:'\" + row['fav_class'] + \"'}) CREATE (s)-[:LIKES]->(c)\")"
   ]
  },
  {
   "cell_type": "code",
   "execution_count": 17,
   "metadata": {},
   "outputs": [],
   "source": [
    "for i in range(len(students)):\n",
    "    row = students.iloc[i]\n",
    "    graph.run(\"MATCH (s:STUDENT {student_id:'\" + row['student_id'] +\"'}), (c:COUNTRY {country_id:'\" + row['fav_vacation_id'] + \"'}) CREATE (s)-[:HAS_BEEN_TO]->(c)\")"
   ]
  },
  {
   "cell_type": "code",
   "execution_count": 18,
   "metadata": {},
   "outputs": [],
   "source": [
    "for i in range(len(students)):\n",
    "    row = students.iloc[i]\n",
    "    graph.run(\"MATCH (s:STUDENT {student_id:'\" + row['student_id'] +\"'}), (c:COUNTRY {country_id:'\" + row['dream_vacation_id'] + \"'}) CREATE (s)-[:WANTS_TO_GO_TO]->(c)\")"
   ]
  },
  {
   "cell_type": "code",
   "execution_count": 19,
   "metadata": {},
   "outputs": [],
   "source": [
    "for i in range(len(students)):\n",
    "    row = students.iloc[i]\n",
    "    graph.run(\"MATCH (s:STUDENT {student_id:'\" + row['student_id'] +\"'}), (e:EXTRACURRICULAR {xtra_id:'\" + str(row['xtra_id_1']) + \"'}) CREATE (s)-[:PARTICIPATES_IN]->(e)\")\n",
    "    graph.run(\"MATCH (s:STUDENT {student_id:'\" + row['student_id'] +\"'}), (e:EXTRACURRICULAR {xtra_id:'\" + str(row['xtra_id_2']) + \"'}) CREATE (s)-[:PARTICIPATES_IN]->(e)\")\n",
    "    if is_not_nan(row['xtra_id_3']):\n",
    "        temp = int(row['xtra_id_3'])\n",
    "        graph.run(\"MATCH (s:STUDENT {student_id:'\" + row['student_id'] +\"'}), (e:EXTRACURRICULAR {xtra_id:'\" + str(temp) + \"'}) CREATE (s)-[:PARTICIPATES_IN]->(e)\")"
   ]
  },
  {
   "cell_type": "code",
   "execution_count": 20,
   "metadata": {},
   "outputs": [],
   "source": [
    "for i in range(len(classes)):\n",
    "    row = classes.iloc[i]\n",
    "    if is_not_nan(row['prereqs_1']):\n",
    "        graph.run(\"MATCH (c1:CLASS {class_id:'\" + row['class_id'] +\"'}), (c2:CLASS {class_id:'\" + row['prereqs_1'] + \"'}) CREATE (c1)<-[:IS_PREREQ_OF]-(c2)\")\n",
    "    if is_not_nan(row['prereqs_2']):\n",
    "        graph.run(\"MATCH (c1:CLASS {class_id:'\" + row['class_id'] +\"'}), (c2:CLASS {class_id:'\" + row['prereqs_2'] + \"'}) CREATE (c1)<-[:IS_PREREQ_OF]-(c2)\")"
   ]
  },
  {
   "cell_type": "code",
   "execution_count": 21,
   "metadata": {},
   "outputs": [],
   "source": [
    "for i in range(len(students)):\n",
    "    row = students.iloc[i]\n",
    "    if is_not_nan(row['xtra_id_1']):\n",
    "        length = np.random.choice(np.arange(1,3))\n",
    "        graph.run(\"MATCH (n:STUDENT {first_name: '\" + row.first_name +\"'})-[r:PARTICIPATES_IN]->(x:EXTRACURRICULAR {name: '\" + xtras.iloc[int(students.iloc[i].xtra_id_1)].loc['name'] + \"'}) SET r.years = \" + str(length))\n",
    "    if is_not_nan(row['xtra_id_2']):\n",
    "        length = np.random.choice(np.arange(1,3))\n",
    "        graph.run(\"MATCH (n:STUDENT {first_name: '\" + row.first_name +\"'})-[r:PARTICIPATES_IN]->(x:EXTRACURRICULAR {name: '\" + xtras.iloc[int(students.iloc[i].xtra_id_2)].loc['name'] + \"'}) SET r.years = \" + str(length))\n",
    "    if is_not_nan(row['xtra_id_3']):\n",
    "        length = np.random.choice(np.arange(1,3))\n",
    "        graph.run(\"MATCH (n:STUDENT {first_name: '\" + row.first_name +\"'})-[r:PARTICIPATES_IN]->(x:EXTRACURRICULAR {name: '\" + xtras.iloc[int(students.iloc[i].xtra_id_3)].loc['name'] + \"'}) SET r.years = \" + str(length))\n"
   ]
  },
  {
   "cell_type": "code",
   "execution_count": 22,
   "metadata": {},
   "outputs": [],
   "source": [
    "for i in range(len(students)):\n",
    "    row = students.iloc[i]\n",
    "    if is_not_nan(row['xtra_id_1']):\n",
    "        length = np.random.choice(np.arange(2008, 2019))\n",
    "        graph.run(\"MATCH (n:STUDENT {first_name: '\" + row.first_name +\"'})-[r:HAS_BEEN_TO]->(c:COUNTRY {country_id: '\" + row.fav_vacation_id + \"'}) SET r.year = \" + str(length))"
   ]
  },
  {
   "cell_type": "code",
   "execution_count": null,
   "metadata": {},
   "outputs": [],
   "source": []
  }
 ],
 "metadata": {
  "kernelspec": {
   "display_name": "Python 3",
   "language": "python",
   "name": "python3"
  },
  "language_info": {
   "codemirror_mode": {
    "name": "ipython",
    "version": 3
   },
   "file_extension": ".py",
   "mimetype": "text/x-python",
   "name": "python",
   "nbconvert_exporter": "python",
   "pygments_lexer": "ipython3",
   "version": "3.8.8"
  }
 },
 "nbformat": 4,
 "nbformat_minor": 4
}
