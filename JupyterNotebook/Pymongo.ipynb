{
 "cells": [
  {
   "cell_type": "code",
   "execution_count": 1,
   "metadata": {},
   "outputs": [],
   "source": [
    "import pandas as pd\n",
    "import numpy as np\n",
    "import pymongo\n",
    "import math"
   ]
  },
  {
   "cell_type": "code",
   "execution_count": 2,
   "metadata": {},
   "outputs": [],
   "source": [
    "from pymongo import MongoClient"
   ]
  },
  {
   "cell_type": "code",
   "execution_count": 3,
   "metadata": {},
   "outputs": [],
   "source": [
    "client = MongoClient('localhost', 27017)"
   ]
  },
  {
   "cell_type": "code",
   "execution_count": 4,
   "metadata": {},
   "outputs": [
    {
     "data": {
      "text/plain": [
       "MongoClient(host=['localhost:27017'], document_class=dict, tz_aware=False, connect=True)"
      ]
     },
     "execution_count": 4,
     "metadata": {},
     "output_type": "execute_result"
    }
   ],
   "source": [
    "client"
   ]
  },
  {
   "cell_type": "code",
   "execution_count": 5,
   "metadata": {},
   "outputs": [],
   "source": [
    "def is_not_nan(value):\n",
    "    if type(value) != str:\n",
    "        if math.isnan(value):\n",
    "            return False\n",
    "        else:\n",
    "            return True\n",
    "    else:\n",
    "        return True"
   ]
  },
  {
   "cell_type": "code",
   "execution_count": 6,
   "metadata": {},
   "outputs": [],
   "source": [
    "db = client.student_db"
   ]
  },
  {
   "cell_type": "code",
   "execution_count": 7,
   "metadata": {},
   "outputs": [],
   "source": [
    "student_collection = db.students"
   ]
  },
  {
   "cell_type": "code",
   "execution_count": 9,
   "metadata": {},
   "outputs": [],
   "source": [
    "students = pd.read_csv(\"McSQL Data - students.csv\")\n",
    "classes = pd.read_csv(\"McSQL Data - classes.csv\")\n",
    "countries = pd.read_csv(\"McSQL Data - countries.csv\")\n",
    "xtras = pd.read_csv(\"McSQL Data - extracurriculars.csv\")"
   ]
  },
  {
   "cell_type": "code",
   "execution_count": 11,
   "metadata": {},
   "outputs": [],
   "source": [
    "classes = classes.set_index('class_id')\n",
    "xtras = xtras.set_index('xtra_id')\n",
    "countries = countries.set_index('country_id')"
   ]
  },
  {
   "cell_type": "code",
   "execution_count": 12,
   "metadata": {},
   "outputs": [],
   "source": [
    "classes.credits = classes.credits.astype('object')\n",
    "xtras.application = xtras.application.astype('object')\n",
    "countries.population = countries.population.astype('object')\n",
    "countries.gdp_per_capita = countries.gdp_per_capita.astype('object')"
   ]
  },
  {
   "cell_type": "code",
   "execution_count": 13,
   "metadata": {},
   "outputs": [],
   "source": [
    "master_list = []\n",
    "\n",
    "for index in range(0, len(students)):\n",
    "    student = students.iloc[index]    \n",
    "    student_dictionary = {}\n",
    "    for i in range(3):\n",
    "        student_dictionary[student.index[i]] = student[i]\n",
    "    fav_class = student[3]\n",
    "    fav_class_dict = {}\n",
    "    fav_class_list = classes.loc[fav_class]\n",
    "    for i in range(0, 3):\n",
    "        fav_class_dict[fav_class_list.index[i]] = fav_class_list[i]\n",
    "        \n",
    "    prereq_list = []\n",
    "    if is_not_nan(fav_class_list[3]):\n",
    "        prereq_list.append(fav_class_list[3])\n",
    "    if is_not_nan(fav_class_list[4]):\n",
    "        prereq_list.append(fav_class_list[4])      \n",
    "    fav_class_dict['prereqs'] = prereq_list\n",
    "        \n",
    "    for i in range(5, len(fav_class_list)):\n",
    "        fav_class_dict[fav_class_list.index[i]] = fav_class_list[i]\n",
    "    fav_class_dict\n",
    "    student_dictionary[student.index[3]] = fav_class_dict\n",
    "\n",
    "    final_list = []\n",
    "    xtra_list = []\n",
    "    for i in range(4, 7):\n",
    "        if is_not_nan(student[i]):\n",
    "            xtra_list.append(student[i])\n",
    "    xtra_list\n",
    "    for j in xtra_list:\n",
    "        xtra_dict = {}\n",
    "        xtra_list = xtras.loc[j]\n",
    "        for i in range(0, len(xtra_list)):\n",
    "            xtra_dict[xtra_list.index[i]] = xtra_list[i]\n",
    "        final_list.append(xtra_dict)\n",
    "    student_dictionary['xtra_id'] = final_list\n",
    "\n",
    "    fav_vac = student[7]\n",
    "    fav_vac_dict = {}\n",
    "    fav_vac_list = countries.loc[fav_vac]\n",
    "    for i in range(0, len(fav_vac_list)):\n",
    "        fav_vac_dict[fav_vac_list.index[i]] = fav_vac_list[i]\n",
    "    student_dictionary[student.index[7]] = fav_vac_dict\n",
    "\n",
    "    dream_vac = student[8]\n",
    "    dream_vac_dict = {}\n",
    "    dream_vac_list = countries.loc[dream_vac]\n",
    "    for i in range(0, len(dream_vac_list)):\n",
    "        dream_vac_dict[dream_vac_list.index[i]] = dream_vac_list[i]\n",
    "    student_dictionary[student.index[8]] = dream_vac_dict\n",
    "    \n",
    "    master_list.append(student_dictionary)"
   ]
  },
  {
   "cell_type": "code",
   "execution_count": 15,
   "metadata": {},
   "outputs": [
    {
     "data": {
      "text/plain": [
       "<pymongo.results.InsertManyResult at 0x23aeb9b87c0>"
      ]
     },
     "execution_count": 15,
     "metadata": {},
     "output_type": "execute_result"
    }
   ],
   "source": [
    "student_collection.insert_many(master_list)"
   ]
  },
  {
   "cell_type": "code",
   "execution_count": null,
   "metadata": {},
   "outputs": [],
   "source": []
  }
 ],
 "metadata": {
  "kernelspec": {
   "display_name": "Python 3",
   "language": "python",
   "name": "python3"
  },
  "language_info": {
   "codemirror_mode": {
    "name": "ipython",
    "version": 3
   },
   "file_extension": ".py",
   "mimetype": "text/x-python",
   "name": "python",
   "nbconvert_exporter": "python",
   "pygments_lexer": "ipython3",
   "version": "3.8.3"
  }
 },
 "nbformat": 4,
 "nbformat_minor": 4
}
